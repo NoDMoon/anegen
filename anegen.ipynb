{
  "nbformat": 4,
  "nbformat_minor": 0,
  "metadata": {
    "colab": {
      "provenance": []
    },
    "kernelspec": {
      "name": "python3",
      "display_name": "Python 3"
    },
    "language_info": {
      "name": "python"
    },
    "accelerator": "GPU",
    "gpuClass": "standard"
  },
  "cells": [
    {
      "cell_type": "code",
      "metadata": {
        "id": "igFV-w5gEkjw",
        "colab": {
          "base_uri": "https://localhost:8080/"
        },
        "outputId": "ed12ba66-b5b4-45c0-cc95-021468e22832"
      },
      "source": [
        "from pandas import read_csv\n",
        "\n",
        "from google.colab import drive\n",
        "drive.mount('/content/MyDrive')\n",
        "\n",
        "from re import sub"
      ],
      "execution_count": null,
      "outputs": [
        {
          "output_type": "stream",
          "name": "stdout",
          "text": [
            "Drive already mounted at /content/MyDrive; to attempt to forcibly remount, call drive.mount(\"/content/MyDrive\", force_remount=True).\n"
          ]
        }
      ]
    },
    {
      "cell_type": "code",
      "metadata": {
        "colab": {
          "base_uri": "https://localhost:8080/",
          "height": 206
        },
        "id": "C07nCPwaEtTb",
        "outputId": "2a95df33-5848-41d5-e68f-51b03fb0da93"
      },
      "source": [
        "df = read_csv('/content/MyDrive/MyDrive/shortjokes.csv')\n",
        "df.head()"
      ],
      "execution_count": null,
      "outputs": [
        {
          "output_type": "execute_result",
          "data": {
            "text/plain": [
              "   ID                                               Joke\n",
              "0   1  [me narrating a documentary about narrators] \"...\n",
              "1   2  Telling my daughter garlic is good for you. Go...\n",
              "2   3  I've been going through a really rough period ...\n",
              "3   4  If I could have dinner with anyone, dead or al...\n",
              "4   5     Two guys walk into a bar. The third guy ducks."
            ],
            "text/html": [
              "\n",
              "  <div id=\"df-4f1ab22d-cdc9-4fd6-9e87-ef6bccc7a9b1\">\n",
              "    <div class=\"colab-df-container\">\n",
              "      <div>\n",
              "<style scoped>\n",
              "    .dataframe tbody tr th:only-of-type {\n",
              "        vertical-align: middle;\n",
              "    }\n",
              "\n",
              "    .dataframe tbody tr th {\n",
              "        vertical-align: top;\n",
              "    }\n",
              "\n",
              "    .dataframe thead th {\n",
              "        text-align: right;\n",
              "    }\n",
              "</style>\n",
              "<table border=\"1\" class=\"dataframe\">\n",
              "  <thead>\n",
              "    <tr style=\"text-align: right;\">\n",
              "      <th></th>\n",
              "      <th>ID</th>\n",
              "      <th>Joke</th>\n",
              "    </tr>\n",
              "  </thead>\n",
              "  <tbody>\n",
              "    <tr>\n",
              "      <th>0</th>\n",
              "      <td>1</td>\n",
              "      <td>[me narrating a documentary about narrators] \"...</td>\n",
              "    </tr>\n",
              "    <tr>\n",
              "      <th>1</th>\n",
              "      <td>2</td>\n",
              "      <td>Telling my daughter garlic is good for you. Go...</td>\n",
              "    </tr>\n",
              "    <tr>\n",
              "      <th>2</th>\n",
              "      <td>3</td>\n",
              "      <td>I've been going through a really rough period ...</td>\n",
              "    </tr>\n",
              "    <tr>\n",
              "      <th>3</th>\n",
              "      <td>4</td>\n",
              "      <td>If I could have dinner with anyone, dead or al...</td>\n",
              "    </tr>\n",
              "    <tr>\n",
              "      <th>4</th>\n",
              "      <td>5</td>\n",
              "      <td>Two guys walk into a bar. The third guy ducks.</td>\n",
              "    </tr>\n",
              "  </tbody>\n",
              "</table>\n",
              "</div>\n",
              "      <button class=\"colab-df-convert\" onclick=\"convertToInteractive('df-4f1ab22d-cdc9-4fd6-9e87-ef6bccc7a9b1')\"\n",
              "              title=\"Convert this dataframe to an interactive table.\"\n",
              "              style=\"display:none;\">\n",
              "        \n",
              "  <svg xmlns=\"http://www.w3.org/2000/svg\" height=\"24px\"viewBox=\"0 0 24 24\"\n",
              "       width=\"24px\">\n",
              "    <path d=\"M0 0h24v24H0V0z\" fill=\"none\"/>\n",
              "    <path d=\"M18.56 5.44l.94 2.06.94-2.06 2.06-.94-2.06-.94-.94-2.06-.94 2.06-2.06.94zm-11 1L8.5 8.5l.94-2.06 2.06-.94-2.06-.94L8.5 2.5l-.94 2.06-2.06.94zm10 10l.94 2.06.94-2.06 2.06-.94-2.06-.94-.94-2.06-.94 2.06-2.06.94z\"/><path d=\"M17.41 7.96l-1.37-1.37c-.4-.4-.92-.59-1.43-.59-.52 0-1.04.2-1.43.59L10.3 9.45l-7.72 7.72c-.78.78-.78 2.05 0 2.83L4 21.41c.39.39.9.59 1.41.59.51 0 1.02-.2 1.41-.59l7.78-7.78 2.81-2.81c.8-.78.8-2.07 0-2.86zM5.41 20L4 18.59l7.72-7.72 1.47 1.35L5.41 20z\"/>\n",
              "  </svg>\n",
              "      </button>\n",
              "      \n",
              "  <style>\n",
              "    .colab-df-container {\n",
              "      display:flex;\n",
              "      flex-wrap:wrap;\n",
              "      gap: 12px;\n",
              "    }\n",
              "\n",
              "    .colab-df-convert {\n",
              "      background-color: #E8F0FE;\n",
              "      border: none;\n",
              "      border-radius: 50%;\n",
              "      cursor: pointer;\n",
              "      display: none;\n",
              "      fill: #1967D2;\n",
              "      height: 32px;\n",
              "      padding: 0 0 0 0;\n",
              "      width: 32px;\n",
              "    }\n",
              "\n",
              "    .colab-df-convert:hover {\n",
              "      background-color: #E2EBFA;\n",
              "      box-shadow: 0px 1px 2px rgba(60, 64, 67, 0.3), 0px 1px 3px 1px rgba(60, 64, 67, 0.15);\n",
              "      fill: #174EA6;\n",
              "    }\n",
              "\n",
              "    [theme=dark] .colab-df-convert {\n",
              "      background-color: #3B4455;\n",
              "      fill: #D2E3FC;\n",
              "    }\n",
              "\n",
              "    [theme=dark] .colab-df-convert:hover {\n",
              "      background-color: #434B5C;\n",
              "      box-shadow: 0px 1px 3px 1px rgba(0, 0, 0, 0.15);\n",
              "      filter: drop-shadow(0px 1px 2px rgba(0, 0, 0, 0.3));\n",
              "      fill: #FFFFFF;\n",
              "    }\n",
              "  </style>\n",
              "\n",
              "      <script>\n",
              "        const buttonEl =\n",
              "          document.querySelector('#df-4f1ab22d-cdc9-4fd6-9e87-ef6bccc7a9b1 button.colab-df-convert');\n",
              "        buttonEl.style.display =\n",
              "          google.colab.kernel.accessAllowed ? 'block' : 'none';\n",
              "\n",
              "        async function convertToInteractive(key) {\n",
              "          const element = document.querySelector('#df-4f1ab22d-cdc9-4fd6-9e87-ef6bccc7a9b1');\n",
              "          const dataTable =\n",
              "            await google.colab.kernel.invokeFunction('convertToInteractive',\n",
              "                                                     [key], {});\n",
              "          if (!dataTable) return;\n",
              "\n",
              "          const docLinkHtml = 'Like what you see? Visit the ' +\n",
              "            '<a target=\"_blank\" href=https://colab.research.google.com/notebooks/data_table.ipynb>data table notebook</a>'\n",
              "            + ' to learn more about interactive tables.';\n",
              "          element.innerHTML = '';\n",
              "          dataTable['output_type'] = 'display_data';\n",
              "          await google.colab.output.renderOutput(dataTable, element);\n",
              "          const docLink = document.createElement('div');\n",
              "          docLink.innerHTML = docLinkHtml;\n",
              "          element.appendChild(docLink);\n",
              "        }\n",
              "      </script>\n",
              "    </div>\n",
              "  </div>\n",
              "  "
            ]
          },
          "metadata": {},
          "execution_count": 2
        }
      ]
    },
    {
      "cell_type": "code",
      "metadata": {
        "colab": {
          "base_uri": "https://localhost:8080/"
        },
        "id": "pa3SsE_iFD9d",
        "outputId": "9dd1ac25-4889-4fb0-bed2-e28b5f6ce242"
      },
      "source": [
        "df.info()"
      ],
      "execution_count": null,
      "outputs": [
        {
          "output_type": "stream",
          "name": "stdout",
          "text": [
            "<class 'pandas.core.frame.DataFrame'>\n",
            "RangeIndex: 231657 entries, 0 to 231656\n",
            "Data columns (total 2 columns):\n",
            " #   Column  Non-Null Count   Dtype \n",
            "---  ------  --------------   ----- \n",
            " 0   ID      231657 non-null  int64 \n",
            " 1   Joke    231657 non-null  object\n",
            "dtypes: int64(1), object(1)\n",
            "memory usage: 3.5+ MB\n"
          ]
        }
      ]
    },
    {
      "cell_type": "code",
      "metadata": {
        "id": "kB1ZFS9RFdbC"
      },
      "source": [
        "def preprocess_text(text: str):\n",
        "  res = text.lower()\n",
        "  res = sub(r'\\d+',     ' ', res) # remove digits  \n",
        "  res = sub(r'[^a-z]',  ' ', res) # remove punctuation\n",
        "  res = res.split()\n",
        "  res = ' '.join(res)\n",
        "  #res = ' '.join([word for word in res if not word in stop_word])\n",
        "  return res"
      ],
      "execution_count": null,
      "outputs": []
    },
    {
      "cell_type": "code",
      "metadata": {
        "id": "Xp7I5CmZFkyS",
        "colab": {
          "base_uri": "https://localhost:8080/"
        },
        "outputId": "af08f42b-a4d6-4a45-c9f7-7e067b2fdc65"
      },
      "source": [
        "X = df['Joke'].apply(preprocess_text)\n",
        "X[:5]"
      ],
      "execution_count": null,
      "outputs": [
        {
          "output_type": "execute_result",
          "data": {
            "text/plain": [
              "0    me narrating a documentary about narrators i c...\n",
              "1    telling my daughter garlic is good for you goo...\n",
              "2    i ve been going through a really rough period ...\n",
              "3    if i could have dinner with anyone dead or ali...\n",
              "4         two guys walk into a bar the third guy ducks\n",
              "Name: Joke, dtype: object"
            ]
          },
          "metadata": {},
          "execution_count": 5
        }
      ]
    },
    {
      "cell_type": "code",
      "metadata": {
        "colab": {
          "base_uri": "https://localhost:8080/",
          "height": 282
        },
        "id": "OHwnXRD6ciVP",
        "outputId": "f9df727f-3820-4031-9de6-629e4162e831"
      },
      "source": [
        "X.apply(lambda x: len(x.split())).hist(bins=20)"
      ],
      "execution_count": null,
      "outputs": [
        {
          "output_type": "execute_result",
          "data": {
            "text/plain": [
              "<matplotlib.axes._subplots.AxesSubplot at 0x7f2b26ae2cd0>"
            ]
          },
          "metadata": {},
          "execution_count": 6
        },
        {
          "output_type": "display_data",
          "data": {
            "text/plain": [
              "<Figure size 432x288 with 1 Axes>"
            ],
            "image/png": "[encoded data removed]"
          },
          "metadata": {
            "needs_background": "light"
          }
        }
      ]
    },
    {
      "cell_type": "code",
      "source": [
        "lower=10\n",
        "upper=25\n",
        "df_words = X.str.split()\n",
        "X = X[(df_words.apply(len)>=lower) & (df_words.apply(len)<=upper)].reset_index(drop=True)\n",
        "X.apply(lambda x: len(x.split())).hist()\n",
        "X.shape"
      ],
      "metadata": {
        "id": "FONt2D9E9WNC",
        "colab": {
          "base_uri": "https://localhost:8080/",
          "height": 282
        },
        "outputId": "a228761d-f096-4bcd-9808-898329a710c2"
      },
      "execution_count": null,
      "outputs": [
        {
          "output_type": "execute_result",
          "data": {
            "text/plain": [
              "(173442,)"
            ]
          },
          "metadata": {},
          "execution_count": 7
        },
        {
          "output_type": "display_data",
          "data": {
            "text/plain": [
              "<Figure size 432x288 with 1 Axes>"
            ],
            "image/png": "[encoded data removed]"
          },
          "metadata": {
            "needs_background": "light"
          }
        }
      ]
    },
    {
      "cell_type": "code",
      "source": [
        "X[:5]"
      ],
      "metadata": {
        "colab": {
          "base_uri": "https://localhost:8080/"
        },
        "id": "Dh725cDo9zBV",
        "outputId": "de0e5207-a526-460c-b735-59b10bd50933"
      },
      "execution_count": null,
      "outputs": [
        {
          "output_type": "execute_result",
          "data": {
            "text/plain": [
              "0    me narrating a documentary about narrators i c...\n",
              "1    telling my daughter garlic is good for you goo...\n",
              "2    i ve been going through a really rough period ...\n",
              "3    if i could have dinner with anyone dead or ali...\n",
              "4         two guys walk into a bar the third guy ducks\n",
              "Name: Joke, dtype: object"
            ]
          },
          "metadata": {},
          "execution_count": 8
        }
      ]
    },
    {
      "cell_type": "markdown",
      "source": [
        "keep most popular words"
      ],
      "metadata": {
        "id": "yEH2XN6DsRjC"
      }
    },
    {
      "cell_type": "code",
      "source": [
        "from collections import Counter\n",
        "import matplotlib.pyplot as plt"
      ],
      "metadata": {
        "id": "IxtCOr3vO4Ce"
      },
      "execution_count": null,
      "outputs": []
    },
    {
      "cell_type": "code",
      "source": [
        "counter = Counter(' '.join(X).split()).most_common()\n",
        "counter[:10]"
      ],
      "metadata": {
        "id": "gpLZVIGZOIQz",
        "colab": {
          "base_uri": "https://localhost:8080/"
        },
        "outputId": "4790f837-d94d-4c7d-a8b0-f961e159fbb5"
      },
      "execution_count": null,
      "outputs": [
        {
          "output_type": "execute_result",
          "data": {
            "text/plain": [
              "[('a', 120325),\n",
              " ('the', 109125),\n",
              " ('i', 79286),\n",
              " ('you', 62964),\n",
              " ('to', 59644),\n",
              " ('what', 42859),\n",
              " ('s', 40126),\n",
              " ('and', 38783),\n",
              " ('it', 38648),\n",
              " ('in', 36253)]"
            ]
          },
          "metadata": {},
          "execution_count": 10
        }
      ]
    },
    {
      "cell_type": "code",
      "source": [
        "threshold = 100\n",
        "bag_of_words = [x[0] for x in counter if x[1]>=threshold]\n",
        "len(bag_of_words)"
      ],
      "metadata": {
        "colab": {
          "base_uri": "https://localhost:8080/"
        },
        "id": "X4J4uBR5Uc0v",
        "outputId": "9db34d54-4f4c-4bb8-8fb6-03388043c873"
      },
      "execution_count": null,
      "outputs": [
        {
          "output_type": "execute_result",
          "data": {
            "text/plain": [
              "2548"
            ]
          },
          "metadata": {},
          "execution_count": 11
        }
      ]
    },
    {
      "cell_type": "code",
      "source": [
        "import pandas as pd"
      ],
      "metadata": {
        "id": "CtGZOnWlYTz_"
      },
      "execution_count": null,
      "outputs": []
    },
    {
      "cell_type": "code",
      "source": [
        "#jokes_oft = X[(X.str.split()).apply(lambda x: pd.Series(x).isin(bag_of_words).all())]\n",
        "jokes_oft = X[X.apply(lambda x: pd.Series(x.split()).isin(bag_of_words).all())]"
      ],
      "metadata": {
        "id": "sKQG-CQEz66N"
      },
      "execution_count": null,
      "outputs": []
    },
    {
      "cell_type": "code",
      "source": [
        "jokes_oft.reset_index(drop=True, inplace=True)\n",
        "jokes_oft[:5]"
      ],
      "metadata": {
        "colab": {
          "base_uri": "https://localhost:8080/"
        },
        "id": "UojoJi6oXRW6",
        "outputId": "d2c6fcc8-6369-4d8f-ebde-37d331693f16"
      },
      "execution_count": null,
      "outputs": [
        {
          "output_type": "execute_result",
          "data": {
            "text/plain": [
              "0         two guys walk into a bar the third guy ducks\n",
              "1    you ever notice that the most dangerous thing ...\n",
              "2    mom do you want this me no mom ok i ll give it...\n",
              "3          a guy pick up a woman then he puts her down\n",
              "4    did you hear about the midget psychic who esca...\n",
              "Name: Joke, dtype: object"
            ]
          },
          "metadata": {},
          "execution_count": 15
        }
      ]
    },
    {
      "cell_type": "code",
      "metadata": {
        "id": "1Wa-vJVlF1xT"
      },
      "source": [
        "class Vocab:\n",
        "  def __init__(self, data):\n",
        "    tokens = {'<sos>', '<eos>', '<unk>', '<pad>'}\n",
        "    self.max_seq_len = 0\n",
        "    for text in data:\n",
        "      words = text.split()\n",
        "      self.max_seq_len = max(self.max_seq_len, len(words) + 2) \n",
        "      tokens.update(words)\n",
        "\n",
        "    self.idx_to_token = {idx: token for idx, token in enumerate(tokens)}\n",
        "    self.token_to_idx = {token: idx for idx, token in self.idx_to_token.items()}\n",
        "\n",
        "    self.vocab_len = len(self.idx_to_token)"
      ],
      "execution_count": null,
      "outputs": []
    },
    {
      "cell_type": "code",
      "metadata": {
        "colab": {
          "base_uri": "https://localhost:8080/"
        },
        "id": "Qljn5WswGJOx",
        "outputId": "234986c3-15bb-4c6f-fa8e-5dc408c1aae8"
      },
      "source": [
        "vocab = Vocab(jokes_oft)\n",
        "vocab.vocab_len, vocab.max_seq_len"
      ],
      "execution_count": null,
      "outputs": [
        {
          "output_type": "execute_result",
          "data": {
            "text/plain": [
              "(2546, 27)"
            ]
          },
          "metadata": {},
          "execution_count": 17
        }
      ]
    },
    {
      "cell_type": "code",
      "metadata": {
        "id": "NPI4q999GMsE"
      },
      "source": [
        "from torch.utils.data import Dataset, DataLoader\n",
        "from torch import tensor"
      ],
      "execution_count": null,
      "outputs": []
    },
    {
      "cell_type": "code",
      "source": [
        "class JokeDataset(Dataset):\n",
        "  def __init__(self, X, vocab: Vocab):\n",
        "    self.X = X\n",
        "    self.vocab = vocab\n",
        "\n",
        "  def vectorize(self, text):\n",
        "    words = text.split()\n",
        "    vec = []\n",
        "    vec.append(self.vocab.token_to_idx['<sos>'])\n",
        "\n",
        "    for word in words:\n",
        "      vec.append(self.vocab.token_to_idx.get(word,\n",
        "                                             self.vocab.token_to_idx['<unk>']))\n",
        "    vec.append(self.vocab.token_to_idx['<eos>'])\n",
        "\n",
        "    while len(vec) < self.vocab.max_seq_len:\n",
        "      vec.append(self.vocab.token_to_idx['<pad>'])\n",
        "\n",
        "    return vec\n",
        "\n",
        "  def __len__(self):\n",
        "    return len(self.X)\n",
        "\n",
        "  def __getitem__(self, idx):\n",
        "    #X_vec = self.vectorize(self.X[idx][:self.vocab.max_seq_len])\n",
        "    X_vec = self.vectorize(self.X[idx])\n",
        "    y_vec = X_vec[1:] + [self.vocab.token_to_idx['<pad>']]\n",
        "    return tensor(X_vec), tensor(y_vec)"
      ],
      "metadata": {
        "id": "ciwlYz8ZvPYv"
      },
      "execution_count": null,
      "outputs": []
    },
    {
      "cell_type": "code",
      "metadata": {
        "id": "SFwMH-xUGjwh"
      },
      "source": [
        "ds = JokeDataset(X, vocab)"
      ],
      "execution_count": null,
      "outputs": []
    },
    {
      "cell_type": "code",
      "metadata": {
        "id": "OhhmnellGnZy"
      },
      "source": [
        "batch_size = 1000\n",
        "dl = DataLoader(ds, batch_size=batch_size)"
      ],
      "execution_count": null,
      "outputs": []
    },
    {
      "cell_type": "code",
      "metadata": {
        "id": "hS5DZNREGqcT"
      },
      "source": [
        "from torch.nn import Module, Embedding, GRU, Linear, ReLU, CrossEntropyLoss\n",
        "from torch.optim import Adam"
      ],
      "execution_count": null,
      "outputs": []
    },
    {
      "cell_type": "code",
      "metadata": {
        "id": "coEty8TDGsi5"
      },
      "source": [
        "class Model(Module):\n",
        "\n",
        "  def __init__(self, vol, emb, hid, bat, seq):\n",
        "    super().__init__()\n",
        "    self.vol = vol\n",
        "    self.emb = emb\n",
        "    self.hid = hid\n",
        "    self.bat = bat\n",
        "    self.seq = seq\n",
        "\n",
        "    self.embedding = Embedding(vol, emb)\n",
        "    self.gru = GRU(emb, hid,\n",
        "                   num_layers = 1,\n",
        "                   batch_first = True)\n",
        "    self.dense = Linear(hid, vol)\n",
        "\n",
        "  def forward(self, x, h):\n",
        "\n",
        "    x = self.embedding(x)\n",
        "\n",
        "    x, h = self.gru(x, h)\n",
        "\n",
        "    x = x.reshape(-1, self.hid)\n",
        "\n",
        "    x = self.dense(x)\n",
        "\n",
        "    return x, h"
      ],
      "execution_count": null,
      "outputs": []
    },
    {
      "cell_type": "code",
      "metadata": {
        "id": "8zAMMFg4GuKp"
      },
      "source": [
        "model = Model(vol = vocab.vocab_len,\n",
        "              emb = 400,\n",
        "              hid = 400,\n",
        "              bat = batch_size,\n",
        "              seq = vocab.max_seq_len)\n",
        "\n",
        "loss = CrossEntropyLoss()\n",
        "optimizer = Adam(model.parameters(),\n",
        "                 lr=0.01)"
      ],
      "execution_count": null,
      "outputs": []
    },
    {
      "cell_type": "code",
      "source": [
        "import torch\n",
        "device = torch.device(\"cuda:0\" if torch.cuda.is_available() else \"cpu\")\n",
        "print(device)\n"
      ],
      "metadata": {
        "colab": {
          "base_uri": "https://localhost:8080/"
        },
        "id": "jSuinMoI4YYy",
        "outputId": "da65afe3-714e-4d0d-82f7-8389c298a8f7"
      },
      "execution_count": null,
      "outputs": [
        {
          "output_type": "stream",
          "name": "stdout",
          "text": [
            "cuda:0\n"
          ]
        }
      ]
    },
    {
      "cell_type": "code",
      "source": [
        "model.to(device)"
      ],
      "metadata": {
        "colab": {
          "base_uri": "https://localhost:8080/"
        },
        "id": "o2J0VPvN5kRv",
        "outputId": "0fcfe350-d31c-46f3-ac6b-906aa3f193a3"
      },
      "execution_count": null,
      "outputs": [
        {
          "output_type": "execute_result",
          "data": {
            "text/plain": [
              "Model(\n",
              "  (embedding): Embedding(2546, 400)\n",
              "  (gru): GRU(400, 400, batch_first=True)\n",
              "  (dense): Linear(in_features=400, out_features=2546, bias=True)\n",
              ")"
            ]
          },
          "metadata": {},
          "execution_count": 99
        }
      ]
    },
    {
      "cell_type": "code",
      "metadata": {
        "id": "SHnsbFIHGvU5",
        "colab": {
          "base_uri": "https://localhost:8080/"
        },
        "outputId": "dc9bfe27-666b-4be6-c2b2-463a5305f1b6"
      },
      "source": [
        "num_epochs = 40\n",
        "mse = []\n",
        "h = None\n",
        "for epoch in range(num_epochs):\n",
        "  loss_era = []\n",
        "  for x, y in dl:\n",
        "    x,y = x.to(device), y.to(device)\n",
        "    out, hn = model(x, h)\n",
        "\n",
        "    batch_loss = loss(out, y.reshape(-1))\n",
        "\n",
        "    batch_loss.backward()\n",
        "    \n",
        "    optimizer.step()\n",
        "    optimizer.zero_grad()\n",
        "    \n",
        "    loss_era.append(batch_loss.item())\n",
        "  loss_era = sum(loss_era)/len(loss_era)\n",
        "  print(f'epoch: {epoch}, loss: {round(loss_era, 4)}')\n",
        "  mse.append(loss_era)"
      ],
      "execution_count": null,
      "outputs": [
        {
          "output_type": "stream",
          "name": "stdout",
          "text": [
            "epoch: 0, loss: 2.745\n",
            "epoch: 1, loss: 2.4345\n",
            "epoch: 2, loss: 2.3642\n",
            "epoch: 3, loss: 2.3249\n",
            "epoch: 4, loss: 2.2983\n",
            "epoch: 5, loss: 2.2803\n",
            "epoch: 6, loss: 2.2667\n",
            "epoch: 7, loss: 2.2572\n",
            "epoch: 8, loss: 2.2498\n"
          ]
        }
      ]
    },
    {
      "cell_type": "code",
      "metadata": {
        "id": "_lNdDl7rGyIz"
      },
      "source": [
        "plt.plot(mse)\n",
        "plt.grid()"
      ],
      "execution_count": null,
      "outputs": []
    },
    {
      "cell_type": "code",
      "metadata": {
        "id": "1l1nlf4TGzkx"
      },
      "source": [
        "from torch import normal, argmax, no_grad, random\n",
        "from  numpy.random import choice\n",
        "from random import choices"
      ],
      "execution_count": null,
      "outputs": []
    },
    {
      "cell_type": "code",
      "source": [
        "jokes_oft[jokes_oft.str.startswith('you never')].values"
      ],
      "metadata": {
        "colab": {
          "base_uri": "https://localhost:8080/"
        },
        "id": "-YmaJg3k3Vzg",
        "outputId": "ef23bed5-154a-430e-ffc0-01cf3a266f79"
      },
      "execution_count": null,
      "outputs": [
        {
          "output_type": "execute_result",
          "data": {
            "text/plain": [
              "array(['you never know how strong you are until you have to move your furniture all alone',\n",
              "       'you never realize how boring life is until someone asks you what you like to do for fun',\n",
              "       'you never know what you ve got until you clean your room',\n",
              "       'you never gotta worry about me cheating on you i might eat something that was yours but thats about it',\n",
              "       'you never really know how many inches you re gonna get or how long it ll last snow maybe',\n",
              "       'you never realize what have till its gone toilet paper is a good example of this',\n",
              "       'you never told me you were vegan no one ever',\n",
              "       'you never realize how much you love sleeping until you have to wake up in the morning',\n",
              "       'you never realize what you have till its gone toilet paper is a good example'],\n",
              "      dtype=object)"
            ]
          },
          "metadata": {},
          "execution_count": 62
        }
      ]
    },
    {
      "cell_type": "code",
      "metadata": {
        "id": "4NUfR0UTG0dx",
        "colab": {
          "base_uri": "https://localhost:8080/"
        },
        "outputId": "07fb5c0c-a6cc-4532-9031-a92da5a0fca8"
      },
      "source": [
        "def gen_joke(part = []):\n",
        "  name = [vocab.token_to_idx['<sos>']] + \\\n",
        "         [vocab.token_to_idx.get(l, vocab.token_to_idx['<unk>']) for l in part]\n",
        "\n",
        "  # начальное состояние скрытого слоя случайное, \n",
        "  # из-за чего становится возможна случайная генерация слов\n",
        "  # при условии, что первое слово - метка начала строки\n",
        "  h_t = normal(0,1, size = (1, 1, 400)).to(device)\n",
        "\n",
        "  # состояние скрытого слоя обновляется,\n",
        "  # на основе заданных первых слов текста\n",
        "  for l in name[:-1]:\n",
        "    with no_grad():\n",
        "      token_dist, h_t = model(tensor([l]).reshape(1,-1).to(device), h_t)\n",
        "\n",
        "  # на основе последних слова и состояния скрытого слоя\n",
        "  # генерируются новые слово и состояние скрытого слоя \n",
        "  while True:\n",
        "    with no_grad():\n",
        "      token_dist, h_t = model(tensor([name[-1]]).reshape(1,-1).to(device), h_t)\n",
        "      token_dist = token_dist.cpu()\n",
        "      #print(a(token_dist).size())\n",
        "      token = argmax(token_dist, dim = 1) # заменить аргмакс на выбор\n",
        "      #print(len(token_dist[0,]))\n",
        "      #print(token_dist[0,:]+token_dist[0,:].min())\n",
        "\n",
        "      #token = choices(list(range(len(token_dist[0,:]))), weights=token_dist[0,:]+abs(token_dist[0,:].min()))\n",
        "\n",
        "      #print(token)\n",
        "      name += token.tolist()\n",
        "      if  (name[-1] == vocab.token_to_idx['<eos>']) or \\\n",
        "          (len(name) > vocab.max_seq_len): break\n",
        "\n",
        "  name = ' '.join(vocab.idx_to_token[x] for x in name)\n",
        "  name = name.replace('<sos>', '')\n",
        "  name = name.replace('<eos>', '')\n",
        "  name = name.replace('<pad>', '')\n",
        "  name = name.replace('<unk>', '?')\n",
        "  return name\n",
        "\n",
        "[gen_joke(['you', 'never']) for _ in range(3)]"
      ],
      "execution_count": null,
      "outputs": [
        {
          "output_type": "execute_result",
          "data": {
            "text/plain": [
              "[' you never wanna grow old ',\n",
              " ' you never hear me again ',\n",
              " ' you never have to remove the ? ? ']"
            ]
          },
          "metadata": {},
          "execution_count": 94
        }
      ]
    },
    {
      "cell_type": "markdown",
      "source": [
        "no jokes from dataset - success\n"
      ],
      "metadata": {
        "id": "WDmwg8706pE4"
      }
    },
    {
      "cell_type": "code",
      "metadata": {
        "id": "Mkk4nWKVX2v7",
        "colab": {
          "base_uri": "https://localhost:8080/",
          "height": 35
        },
        "outputId": "8e51ab86-ab46-4c2a-bfa5-9ff01fc97580"
      },
      "source": [
        "gen_joke()"
      ],
      "execution_count": null,
      "outputs": [
        {
          "output_type": "execute_result",
          "data": {
            "text/plain": [
              "' congratulations if you re fat '"
            ],
            "application/vnd.google.colaboratory.intrinsic+json": {
              "type": "string"
            }
          },
          "metadata": {},
          "execution_count": 96
        }
      ]
    }
  ]
}